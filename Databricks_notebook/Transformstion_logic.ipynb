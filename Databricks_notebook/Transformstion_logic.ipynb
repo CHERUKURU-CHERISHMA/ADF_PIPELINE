{
 "cells": [
  {
   "cell_type": "code",
   "execution_count": 0,
   "metadata": {
    "application/vnd.databricks.v1+cell": {
     "cellMetadata": {
      "byteLimit": 2048000,
      "rowLimit": 10000
     },
     "inputWidgets": {},
     "nuid": "480ae1aa-43c9-4ae7-8da4-94bccc9412df",
     "showTitle": false,
     "tableResultSettingsMap": {},
     "title": ""
    }
   },
   "outputs": [],
   "source": [
    "from datetime import datetime\n",
    "from pyspark.sql.types import *\n",
    "from pyspark.sql.functions import col\n",
    "from pyspark.sql.functions import trim, when, lit\n",
    "from pyspark.sql.functions import col, trim, when, date_format, to_timestamp\n",
    "from loguru import logger"
   ]
  },
  {
   "cell_type": "code",
   "execution_count": 0,
   "metadata": {
    "application/vnd.databricks.v1+cell": {
     "cellMetadata": {
      "byteLimit": 2048000,
      "rowLimit": 10000
     },
     "inputWidgets": {},
     "nuid": "2a6f0c66-8c80-46ef-a94b-960f861306dc",
     "showTitle": false,
     "tableResultSettingsMap": {},
     "title": ""
    }
   },
   "outputs": [],
   "source": [
    "dbutils.widgets.text(\"process_path\", \"\")\n",
    "dbutils.widgets.text(\"Mode\", \"\")\n",
    "process_path=dbutils.widgets.get(\"process_path\")\n",
    "Mode=dbutils.widgets.get(\"Mode\")"
   ]
  },
  {
   "cell_type": "code",
   "execution_count": 0,
   "metadata": {
    "application/vnd.databricks.v1+cell": {
     "cellMetadata": {
      "byteLimit": 2048000,
      "rowLimit": 10000
     },
     "inputWidgets": {},
     "nuid": "35c36b7f-a323-408e-a57f-1be7ef4e2471",
     "showTitle": false,
     "tableResultSettingsMap": {},
     "title": ""
    }
   },
   "outputs": [],
   "source": [
    "from pyspark.sql.functions import col, trim, when, to_timestamp, date_format\n",
    "\n",
    "class fact_quality_material_movement:\n",
    "    def __init__(self):\n",
    "        pass\n",
    "\n",
    "    def transform_and_invoke(self):\n",
    "        mkpf = spark.sql(\"SELECT * FROM cur.mkpf\")\n",
    "        mseg = spark.sql(\"SELECT * FROM cur.mseg\")\n",
    "\n",
    "        mkpf_df= mkpf.alias(\"mkpf\")\n",
    "        mseg_df = mseg.alias(\"mseg\")\n",
    "        # Join the DataFrames using aliases to avoid ambiguity\n",
    "        joined_df = mkpf_df.join(\n",
    "            mseg_df,\n",
    "            on=[\n",
    "                col(\"mkpf.MBLNR\") == col(\"mseg.MBLNR\"),\n",
    "                col(\"mkpf.MJAHR\") == col(\"mseg.MJAHR\")\n",
    "            ],\n",
    "            how=\"left\"\n",
    "        )\n",
    "\n",
    "        # Select and alias columns explicitly\n",
    "        renamed_df = joined_df.select(\n",
    "            col(\"mkpf.MBLNR\").alias(\"MATERIAL_DOC_NO\"),\n",
    "            col(\"mkpf.MJAHR\").alias(\"MATERIAL_DOC_YEAR\"),\n",
    "            col(\"mseg.ZEILE\").alias(\"MATERIAL_DOC_ITEM\"),\n",
    "            col(\"mseg.BWART\").alias(\"MOVEMENT_TYPE\"),\n",
    "            col(\"mseg.MATNR\").alias(\"MATERIAL_NO\"),\n",
    "            col(\"mseg.CHARG\").alias(\"BATCH_ID\"),\n",
    "            col(\"mseg.MENGE\").alias(\"QUANTITY\"),\n",
    "            col(\"mseg.ERFME\").alias(\"UNIT_OF_ENTRY\"),\n",
    "            col(\"mseg.DMBTR\").alias(\"AMOUNT_IN_LC\"),\n",
    "            col(\"mseg.LGORT\").alias(\"SENDER_STORAGE_LOCATION\"),\n",
    "            col(\"mseg.WERKS\").alias(\"SENDER_PLANT\"),\n",
    "            col(\"mseg.UMLGO\").alias(\"RECEIVING_STORAGE_LOCATION\"),\n",
    "            col(\"mseg.UMWRK\").alias(\"RECEIVING_PLANT\"),\n",
    "            col(\"mkpf.BUDAT\").alias(\"POSTING_DATE\"),\n",
    "            col(\"mkpf.CPUDT\").alias(\"ENTRY_DATE\"),\n",
    "            col(\"mkpf.CPUTM\").alias(\"ENTRY_TIME\"),\n",
    "            col(\"mkpf.USNAM\").alias(\"USERNAME\"),\n",
    "            col(\"mseg.KUNNR\").alias(\"CUSTOMER_ID\"),\n",
    "            col(\"mseg.KDAUF\").alias(\"SALES_ORDER_NO\"),\n",
    "            col(\"mseg.KDPOS\").alias(\"SALES_ORDER_ITEM\"),\n",
    "            col(\"mseg.MAT_KDAUF\"),\n",
    "            col(\"mseg.MAT_KDPOS\")\n",
    "        )\n",
    "\n",
    "        # Apply transformations\n",
    "        transformed_df = renamed_df \\\n",
    "            .withColumn(\"MATERIAL_NO\", trim(col(\"MATERIAL_NO\"))) \\\n",
    "            .withColumn(\"CUSTOMER_ID\", trim(col(\"CUSTOMER_ID\"))) \\\n",
    "            .withColumn(\"ENTRY_TIME\", date_format(to_timestamp(col(\"ENTRY_TIME\"), \"HHmmss\"), \"HH:mm\")) \\\n",
    "            .withColumn(\"SALES_ORDER_NO\", when(\n",
    "                (col(\"SALES_ORDER_NO\").isNull()) | (col(\"SALES_ORDER_NO\") == \"\"),\n",
    "                col(\"MAT_KDAUF\")\n",
    "            ).otherwise(col(\"SALES_ORDER_NO\"))) \\\n",
    "            .withColumn(\"SALES_ORDER_ITEM\", when(\n",
    "                (col(\"SALES_ORDER_ITEM\").isNull()) | (col(\"SALES_ORDER_ITEM\") == \"\") | (col(\"SALES_ORDER_ITEM\") == \"000000\"),\n",
    "                col(\"MAT_KDPOS\")\n",
    "            ).otherwise(col(\"SALES_ORDER_ITEM\"))) \\\n",
    "            .drop(\"MAT_KDAUF\", \"MAT_KDPOS\")\n",
    "\n",
    "        return transformed_df\n"
   ]
  },
  {
   "cell_type": "code",
   "execution_count": 0,
   "metadata": {
    "application/vnd.databricks.v1+cell": {
     "cellMetadata": {
      "byteLimit": 2048000,
      "rowLimit": 10000
     },
     "inputWidgets": {},
     "nuid": "5c8e3a9a-afeb-4490-b27e-75c59d9bcc19",
     "showTitle": false,
     "tableResultSettingsMap": {},
     "title": ""
    }
   },
   "outputs": [],
   "source": [
    "if __name__ == \"__main__\":\n",
    "    try:\n",
    "        transformer = fact_quality_material_movement()\n",
    "        final_df = transformer.transform_and_invoke()\n",
    "        logger.info(\"Data transformation and write completed successfully.\")\n",
    "\n",
    "    except Exception as e:\n",
    "        logger.error(f\"Error occurred during processing: {e}\")\n"
   ]
  },
  {
   "cell_type": "code",
   "execution_count": 0,
   "metadata": {
    "application/vnd.databricks.v1+cell": {
     "cellMetadata": {},
     "inputWidgets": {},
     "nuid": "61ee2aff-6a80-42b9-81ed-29af1ed03645",
     "showTitle": false,
     "tableResultSettingsMap": {},
     "title": ""
    }
   },
   "outputs": [],
   "source": [
    "final_df.write.format(\"parquet\").mode(Mode).save(process_path)"
   ]
  }
 ],
 "metadata": {
  "application/vnd.databricks.v1+notebook": {
   "computePreferences": null,
   "dashboards": [],
   "environmentMetadata": {
    "base_environment": "",
    "environment_version": "2"
   },
   "inputWidgetPreferences": null,
   "language": "python",
   "notebookMetadata": {
    "mostRecentlyExecutedCommandWithImplicitDF": {
     "commandId": 5663654150601085,
     "dataframes": [
      "_sqldf"
     ]
    },
    "pythonIndentUnit": 4
   },
   "notebookName": "Transformstion_logic",
   "widgets": {
    "Mode": {
     "currentValue": "overwrite",
     "nuid": "5a4933ce-e0c1-4c29-966f-4f6c38e67f13",
     "typedWidgetInfo": {
      "autoCreated": false,
      "defaultValue": "",
      "label": null,
      "name": "Mode",
      "options": {
       "widgetDisplayType": "Text",
       "validationRegex": null
      },
      "parameterDataType": "String"
     },
     "widgetInfo": {
      "widgetType": "text",
      "defaultValue": "",
      "label": null,
      "name": "Mode",
      "options": {
       "widgetType": "text",
       "autoCreated": null,
       "validationRegex": null
      }
     }
    },
    "process_path": {
     "currentValue": "/mnt/ETLmountpoint/process_layer/",
     "nuid": "a02762ac-62e9-43d0-a4c0-cca3673e3d6d",
     "typedWidgetInfo": {
      "autoCreated": false,
      "defaultValue": "",
      "label": null,
      "name": "process_path",
      "options": {
       "widgetDisplayType": "Text",
       "validationRegex": null
      },
      "parameterDataType": "String"
     },
     "widgetInfo": {
      "widgetType": "text",
      "defaultValue": "",
      "label": null,
      "name": "process_path",
      "options": {
       "widgetType": "text",
       "autoCreated": null,
       "validationRegex": null
      }
     }
    }
   }
  },
  "language_info": {
   "name": "python"
  }
 },
 "nbformat": 4,
 "nbformat_minor": 0
}
